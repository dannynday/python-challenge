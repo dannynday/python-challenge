{
 "cells": [
  {
   "cell_type": "code",
   "execution_count": 1,
   "id": "c53c2348-d115-4322-8ba0-05a88d9fa258",
   "metadata": {},
   "outputs": [],
   "source": [
    "import csv\n",
    "import pandas as pd\n",
    "from pathlib import Path"
   ]
  },
  {
   "cell_type": "code",
   "execution_count": 2,
   "id": "38ee1390-ef50-485f-95df-d032f7d1fa3b",
   "metadata": {},
   "outputs": [],
   "source": [
    "budget = Path(\"Resources/budget_data.csv\")"
   ]
  },
  {
   "cell_type": "code",
   "execution_count": 3,
   "id": "2ed3bdf2-eca2-4d39-9ff7-596092c9f000",
   "metadata": {},
   "outputs": [
    {
     "data": {
      "text/html": [
       "<div>\n",
       "<style scoped>\n",
       "    .dataframe tbody tr th:only-of-type {\n",
       "        vertical-align: middle;\n",
       "    }\n",
       "\n",
       "    .dataframe tbody tr th {\n",
       "        vertical-align: top;\n",
       "    }\n",
       "\n",
       "    .dataframe thead th {\n",
       "        text-align: right;\n",
       "    }\n",
       "</style>\n",
       "<table border=\"1\" class=\"dataframe\">\n",
       "  <thead>\n",
       "    <tr style=\"text-align: right;\">\n",
       "      <th></th>\n",
       "      <th>Date</th>\n",
       "      <th>Profit/Losses</th>\n",
       "    </tr>\n",
       "  </thead>\n",
       "  <tbody>\n",
       "    <tr>\n",
       "      <th>0</th>\n",
       "      <td>Jan-2010</td>\n",
       "      <td>867884</td>\n",
       "    </tr>\n",
       "    <tr>\n",
       "      <th>1</th>\n",
       "      <td>Feb-2010</td>\n",
       "      <td>984655</td>\n",
       "    </tr>\n",
       "    <tr>\n",
       "      <th>2</th>\n",
       "      <td>Mar-2010</td>\n",
       "      <td>322013</td>\n",
       "    </tr>\n",
       "    <tr>\n",
       "      <th>3</th>\n",
       "      <td>Apr-2010</td>\n",
       "      <td>-69417</td>\n",
       "    </tr>\n",
       "    <tr>\n",
       "      <th>4</th>\n",
       "      <td>May-2010</td>\n",
       "      <td>310503</td>\n",
       "    </tr>\n",
       "    <tr>\n",
       "      <th>...</th>\n",
       "      <td>...</td>\n",
       "      <td>...</td>\n",
       "    </tr>\n",
       "    <tr>\n",
       "      <th>81</th>\n",
       "      <td>Oct-2016</td>\n",
       "      <td>102685</td>\n",
       "    </tr>\n",
       "    <tr>\n",
       "      <th>82</th>\n",
       "      <td>Nov-2016</td>\n",
       "      <td>795914</td>\n",
       "    </tr>\n",
       "    <tr>\n",
       "      <th>83</th>\n",
       "      <td>Dec-2016</td>\n",
       "      <td>60988</td>\n",
       "    </tr>\n",
       "    <tr>\n",
       "      <th>84</th>\n",
       "      <td>Jan-2017</td>\n",
       "      <td>138230</td>\n",
       "    </tr>\n",
       "    <tr>\n",
       "      <th>85</th>\n",
       "      <td>Feb-2017</td>\n",
       "      <td>671099</td>\n",
       "    </tr>\n",
       "  </tbody>\n",
       "</table>\n",
       "<p>86 rows × 2 columns</p>\n",
       "</div>"
      ],
      "text/plain": [
       "        Date  Profit/Losses\n",
       "0   Jan-2010         867884\n",
       "1   Feb-2010         984655\n",
       "2   Mar-2010         322013\n",
       "3   Apr-2010         -69417\n",
       "4   May-2010         310503\n",
       "..       ...            ...\n",
       "81  Oct-2016         102685\n",
       "82  Nov-2016         795914\n",
       "83  Dec-2016          60988\n",
       "84  Jan-2017         138230\n",
       "85  Feb-2017         671099\n",
       "\n",
       "[86 rows x 2 columns]"
      ]
     },
     "execution_count": 3,
     "metadata": {},
     "output_type": "execute_result"
    }
   ],
   "source": [
    "df = pd.read_csv(budget)\n",
    "df"
   ]
  },
  {
   "cell_type": "code",
   "execution_count": 4,
   "id": "e5792993-8e90-40be-a3a9-95fffef3416a",
   "metadata": {},
   "outputs": [],
   "source": [
    "total_months = 0\n",
    "month_of_change = []\n",
    "net_change_list = []\n",
    "total_net = 0"
   ]
  },
  {
   "cell_type": "code",
   "execution_count": 5,
   "id": "ba1dd86c-c07d-4b1b-b404-03dff46e3b9d",
   "metadata": {},
   "outputs": [],
   "source": [
    "with open(budget, 'r') as financial_analysis: \n",
    "    reader = csv.reader(financial_analysis)\n",
    "    head = next(reader)\n",
    "    first_row = next(reader)\n",
    "    total_months = total_months + 1\n",
    "    total_net = int(first_row[1])\n",
    "    prev_net = int(first_row[1])\n",
    "    \n",
    "    for row in reader :\n",
    "        total_months = total_months + 1\n",
    "        total_net = total_net + int(row[1])\n",
    "        net_change = int(row[1]) - prev_net\n",
    "        prev_net = int(row[1]) \n",
    "        #net_change_list = net_change_list + [net_change]\n",
    "        \n",
    "average_change = round(total_net/total_months,2)"
   ]
  },
  {
   "cell_type": "code",
   "execution_count": 6,
   "id": "a7a8c48a-9c4c-4761-9b22-76ff2b7db480",
   "metadata": {},
   "outputs": [],
   "source": [
    "output_Path = 'output.txt'\n",
    "with open(output_Path, \"w\") as file :\n",
    "    file.write(f\"total months: {total_months}\\n\")\n",
    "    file.write(f\"average change: {average_change}\\n\")\n",
    "    file.write(f\"total net: {total_net}\\n\") \n",
    "    file.write(f\"net change: {net_change}\\n\")\n",
    "    file.write(f\"prev net: {prev_net}\\n\")\n"
   ]
  }
 ],
 "metadata": {
  "kernelspec": {
   "display_name": "Python 3 (ipykernel)",
   "language": "python",
   "name": "python3"
  },
  "language_info": {
   "codemirror_mode": {
    "name": "ipython",
    "version": 3
   },
   "file_extension": ".py",
   "mimetype": "text/x-python",
   "name": "python",
   "nbconvert_exporter": "python",
   "pygments_lexer": "ipython3",
   "version": "3.7.13"
  },
  "toc-autonumbering": false
 },
 "nbformat": 4,
 "nbformat_minor": 5
}
